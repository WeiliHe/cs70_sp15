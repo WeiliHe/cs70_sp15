{
 "cells": [
  {
   "cell_type": "code",
   "execution_count": 1,
   "metadata": {},
   "outputs": [
    {
     "name": "stdout",
     "output_type": "stream",
     "text": [
      "Binomial Probability with X = 0: 0.002467628399630868\n",
      "Poisson Probability with X = 0: 0.0024787521766663585\n",
      "\n",
      "\n",
      "Binomial Probability with X = 1: 0.014827979053381884\n",
      "Poisson Probability with X = 1: 0.014872513059998151\n",
      "\n",
      "\n",
      "Binomial Probability with X = 2: 0.04453954208159583\n",
      "Poisson Probability with X = 2: 0.044617539179994455\n",
      "\n",
      "\n",
      "Binomial Probability with X = 3: 0.08916816324735484\n",
      "Poisson Probability with X = 3: 0.08923507835998891\n",
      "\n",
      "\n",
      "Binomial Probability with X = 4: 0.13385255905468552\n",
      "Poisson Probability with X = 4: 0.13385261753998337\n",
      "\n",
      "\n"
     ]
    }
   ],
   "source": [
    "from math import exp, factorial\n",
    "\n",
    "def binomial_probability(n, k, p):\n",
    "    \"\"\"\n",
    "    Calculate the binomial probability of k successes in n trials with success probability p.\n",
    "    \"\"\"\n",
    "    # Calculate the combination of n and k (nCk)\n",
    "    def combination(n, k):\n",
    "        return factorial(n) / (factorial(k) * factorial(n - k))\n",
    "    \n",
    "    # Calculate binomial probability\n",
    "    binom_prob = combination(n, k) * (p ** k) * ((1 - p) ** (n - k))\n",
    "    return binom_prob\n",
    "\n",
    "def poisson_probability(lmbda, k):\n",
    "    \"\"\"\n",
    "    Calculate the Poisson probability of k events with rate lambda.\n",
    "    \"\"\"\n",
    "    # Calculate Poisson probability\n",
    "    poisson_prob = (lmbda ** k) * exp(-lmbda) / factorial(k)\n",
    "    return poisson_prob\n",
    "\n",
    "# Example usage:\n",
    "n = 4006  # Number of trials\n",
    "k = 3   # Number of successes/events\n",
    "p = 6/4006 # Probability of success in each trial\n",
    "lmbda = n*p # Average rate (lambda)\n",
    "\n",
    "for i in range(5):\n",
    "    k = i\n",
    "    binomial_result = binomial_probability(n, k, p)\n",
    "    poisson_result = poisson_probability(lmbda, k)\n",
    "\n",
    "    print(\"Binomial Probability with X = {}:\".format(k), binomial_result)\n",
    "    print(\"Poisson Probability with X = {}:\".format(k), poisson_result)\n",
    "    print(\"\\n\")"
   ]
  }
 ],
 "metadata": {
  "kernelspec": {
   "display_name": "Python 3 (ipykernel)",
   "language": "python",
   "name": "python3"
  },
  "language_info": {
   "codemirror_mode": {
    "name": "ipython",
    "version": 3
   },
   "file_extension": ".py",
   "mimetype": "text/x-python",
   "name": "python",
   "nbconvert_exporter": "python",
   "pygments_lexer": "ipython3",
   "version": "3.10.6"
  }
 },
 "nbformat": 4,
 "nbformat_minor": 2
}
