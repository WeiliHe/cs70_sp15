{
 "cells": [
  {
   "cell_type": "code",
   "execution_count": 9,
   "metadata": {},
   "outputs": [
    {
     "name": "stdout",
     "output_type": "stream",
     "text": [
      "3.1421346\n"
     ]
    }
   ],
   "source": [
    "import numpy as np\n",
    "\n",
    "# Generating random points within the unit square (0,0) to (1,1)\n",
    "np.random.seed(42)  # For reproducibility\n",
    "total = 20000000\n",
    "points = np.random.rand(total, 2)  # points, each with two coordinates (x, y)\n",
    "\n",
    "count = 0\n",
    "for i in points:\n",
    "    if ((i[0] -  0.5)**2 + (i[1] -  0.5)**2 <= 0.5**2):\n",
    "        count += 1\n",
    "ratio = count / total\n",
    "print(ratio * 4)"
   ]
  },
  {
   "cell_type": "code",
   "execution_count": 14,
   "metadata": {},
   "outputs": [],
   "source": [
    "b = 1293 / 2110**2"
   ]
  },
  {
   "cell_type": "code",
   "execution_count": 13,
   "metadata": {},
   "outputs": [
    {
     "data": {
      "text/plain": [
       "0.019458457806428426"
      ]
     },
     "execution_count": 13,
     "metadata": {},
     "output_type": "execute_result"
    }
   ],
   "source": [
    "67 * 1293 / 2110**2"
   ]
  },
  {
   "cell_type": "code",
   "execution_count": 15,
   "metadata": {},
   "outputs": [
    {
     "data": {
      "text/plain": [
       "0.019273135688227194"
      ]
     },
     "execution_count": 15,
     "metadata": {},
     "output_type": "execute_result"
    }
   ],
   "source": [
    "1 - (1-b)**67"
   ]
  },
  {
   "cell_type": "code",
   "execution_count": 39,
   "metadata": {},
   "outputs": [
    {
     "name": "stdout",
     "output_type": "stream",
     "text": [
      "Expected DPS with Infinity Edge: 9.625\n",
      "Expected DPS with Bloodthirster: 10.0\n",
      "Expected DPS with Blade of the Ruined King: 23.344584307233365\n",
      "9.625 10.0 23.344584307233365\n"
     ]
    }
   ],
   "source": [
    "import math\n",
    "\n",
    "# Variables\n",
    "A0 = 0 # Example value for base attack damage\n",
    "C0 = 0  # Example value for critical strike chance\n",
    "S0 = 0.1  # Example value for attack speed\n",
    "H0_prime = 1000  # Example value for enemy health\n",
    "\n",
    "# Calculation for Infinity Edge\n",
    "E_IE = (1.5 * A0 * C0 + 1.375 * A0 + 105 * C0 + 96.25) * S0\n",
    "print(\"Expected DPS with Infinity Edge:\", E_IE)\n",
    "\n",
    "# Calculation for Bloodthirster\n",
    "E_BT = (A0 * C0 + A0 + 100 * C0 + 100) * S0\n",
    "print(\"Expected DPS with Bloodthirster:\", E_BT)\n",
    "\n",
    "# Calculating the logarithmic term\n",
    "log_base = math.log(0.95, 10)\n",
    "log_ratio = math.log((20 * (25 + A0)) / (H0_prime + 20 * (25 + A0)), 10)\n",
    "\n",
    "# DPS calculation for Blade of the Ruined King\n",
    "inverse_log_scale = 1 / log_base\n",
    "E_BoRK = (1 + C0) * (H0_prime / (inverse_log_scale * log_ratio)) * (S0 + 0.4)\n",
    "\n",
    "print(\"Expected DPS with Blade of the Ruined King:\", E_BoRK)"
   ]
  },
  {
   "cell_type": "code",
   "execution_count": null,
   "metadata": {},
   "outputs": [],
   "source": []
  }
 ],
 "metadata": {
  "kernelspec": {
   "display_name": "Python 3 (ipykernel)",
   "language": "python",
   "name": "python3"
  },
  "language_info": {
   "codemirror_mode": {
    "name": "ipython",
    "version": 3
   },
   "file_extension": ".py",
   "mimetype": "text/x-python",
   "name": "python",
   "nbconvert_exporter": "python",
   "pygments_lexer": "ipython3",
   "version": "3.10.6"
  }
 },
 "nbformat": 4,
 "nbformat_minor": 2
}
