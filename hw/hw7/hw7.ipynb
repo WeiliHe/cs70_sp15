{
 "cells": [
  {
   "cell_type": "code",
   "execution_count": 3,
   "metadata": {
    "scrolled": true
   },
   "outputs": [],
   "source": [
    "import numpy as np\n",
    "from sympy import Matrix, symbols, linsolve\n",
    "import math\n",
    "\n"
   ]
  },
  {
   "cell_type": "code",
   "execution_count": 14,
   "metadata": {},
   "outputs": [],
   "source": [
    "n = 2\n",
    "k = 2\n",
    "q = 7\n",
    "deg_Q = n+k-1\n",
    "deg_E = k\n",
    "deg_P = n-1\n",
    "\n",
    "recieve_pts = [(1,5), (2,3), (3,4), (4,0), (5,3), (6,6)]\n",
    "A = [[0 for _ in range(n + 2 * k)] for _ in range(n + 2 * k)]\n",
    "B = [0 for pt in recieve_pts]\n",
    "\n",
    "for i in range(n + 2 * k):\n",
    "    for j in range(deg_Q + 1):\n",
    "        A[i][j] = math.pow(recieve_pts[i][0], deg_Q - j)\n",
    "        A[i][j] = int(A[i][j] % q)\n",
    "    for k in range(deg_E):\n",
    "        A[i][deg_Q + 1 + k] = -math.pow(recieve_pts[i][0], deg_E - 1 - k) * recieve_pts[i][1]\n",
    "        A[i][deg_Q + 1 + k] = int(A[i][deg_Q + 1 + k] % q)\n",
    "\n",
    "for i in range(len(B)):\n",
    "    B[i] = int(math.pow(recieve_pts[i][0], deg_E) * recieve_pts[i][1] % q)"
   ]
  },
  {
   "cell_type": "code",
   "execution_count": 20,
   "metadata": {},
   "outputs": [
    {
     "data": {
      "text/plain": [
       "array([[1, 1, 1, 1, 2, 2],\n",
       "       [1, 4, 2, 1, 1, 4],\n",
       "       [6, 2, 3, 1, 2, 3],\n",
       "       [1, 2, 4, 1, 0, 0],\n",
       "       [6, 4, 5, 1, 6, 4],\n",
       "       [6, 1, 6, 1, 6, 1]])"
      ]
     },
     "execution_count": 20,
     "metadata": {},
     "output_type": "execute_result"
    }
   ],
   "source": [
    "A"
   ]
  },
  {
   "cell_type": "code",
   "execution_count": 21,
   "metadata": {},
   "outputs": [
    {
     "data": {
      "text/plain": [
       "array([5, 5, 1, 0, 5, 6])"
      ]
     },
     "execution_count": 21,
     "metadata": {},
     "output_type": "execute_result"
    }
   ],
   "source": [
    "B"
   ]
  },
  {
   "cell_type": "code",
   "execution_count": 23,
   "metadata": {},
   "outputs": [
    {
     "name": "stdout",
     "output_type": "stream",
     "text": [
      "209.99999999999994\n",
      "[-2.13333333 -4.          3.         -1.86666667  0.33333333  4.66666667]\n"
     ]
    }
   ],
   "source": [
    "A = np.array(A)\n",
    "B = np.array(B)\n",
    "print(np.linalg.det(A))\n",
    "# Solve for x\n",
    "x = np.linalg.solve(A, B)\n",
    "print(x)"
   ]
  },
  {
   "cell_type": "code",
   "execution_count": 26,
   "metadata": {},
   "outputs": [],
   "source": [
    "a3, a2, a1, a0, b1, b0 = symbols('a3 a2 a1 a0 b1 b0')\n",
    "\n",
    "# System of equations converted to the form Ax = B\n",
    "A = Matrix(A)\n",
    "\n",
    "B = Matrix(B)\n",
    "\n",
    "# Modulo 7 system, solving the equations\n",
    "solution = linsolve((A, B), a3, a2, a1, a0, b1, b0 )"
   ]
  }
 ],
 "metadata": {
  "kernelspec": {
   "display_name": "Python 3 (ipykernel)",
   "language": "python",
   "name": "python3"
  },
  "language_info": {
   "codemirror_mode": {
    "name": "ipython",
    "version": 3
   },
   "file_extension": ".py",
   "mimetype": "text/x-python",
   "name": "python",
   "nbconvert_exporter": "python",
   "pygments_lexer": "ipython3",
   "version": "3.9.1"
  }
 },
 "nbformat": 4,
 "nbformat_minor": 2
}
