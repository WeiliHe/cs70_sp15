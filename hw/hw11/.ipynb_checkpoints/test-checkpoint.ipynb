{
 "cells": [
  {
   "cell_type": "code",
   "execution_count": 3,
   "metadata": {},
   "outputs": [],
   "source": [
    "import numpy as np\n",
    "import math"
   ]
  },
  {
   "cell_type": "code",
   "execution_count": 88,
   "metadata": {},
   "outputs": [
    {
     "name": "stdout",
     "output_type": "stream",
     "text": [
      "times of covering all sad students: 1985 out of 3000. Probability is 0.6616666666666666\n"
     ]
    }
   ],
   "source": [
    "m = 250\n",
    "n = 450\n",
    "vol = 2900\n",
    "sim = 3000\n",
    "\n",
    "hug = set()\n",
    "count = 0\n",
    "\n",
    "for _ in range(sim):\n",
    "    for _ in range(vol):\n",
    "        student = np.random.randint(1, 451)\n",
    "        if student <= m:\n",
    "            hug.add(student)\n",
    "    if len(hug) == m:\n",
    "        count += 1\n",
    "    hug = set()\n",
    "\n",
    "print(\"times of covering all sad students: \" + str(count) + \" out of \" + str(sim) + \". Probability is {}\".format(count * 1.0 / sim))"
   ]
  },
  {
   "cell_type": "code",
   "execution_count": 77,
   "metadata": {},
   "outputs": [
    {
     "name": "stdout",
     "output_type": "stream",
     "text": [
      "times of covering all sad students: 7192 out of 10000. Probability is 0.7192\n"
     ]
    }
   ],
   "source": [
    "print(\"times of covering all sad students: \" + str(count) + \" out of \" + str(sim) + \". Probability is {}\".format(count * 1.0 / sim))"
   ]
  },
  {
   "cell_type": "markdown",
   "metadata": {},
   "source": [
    "times of covering all sad students: 7192 out of 10000. Probability is 0.7192"
   ]
  }
 ],
 "metadata": {
  "kernelspec": {
   "display_name": "Python 3 (ipykernel)",
   "language": "python",
   "name": "python3"
  },
  "language_info": {
   "codemirror_mode": {
    "name": "ipython",
    "version": 3
   },
   "file_extension": ".py",
   "mimetype": "text/x-python",
   "name": "python",
   "nbconvert_exporter": "python",
   "pygments_lexer": "ipython3",
   "version": "3.10.6"
  }
 },
 "nbformat": 4,
 "nbformat_minor": 2
}
