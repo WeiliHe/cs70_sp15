{
 "cells": [
  {
   "cell_type": "code",
   "execution_count": 1,
   "metadata": {},
   "outputs": [
    {
     "data": {
      "text/plain": [
       "(27, 27)"
      ]
     },
     "execution_count": 1,
     "metadata": {},
     "output_type": "execute_result"
    }
   ],
   "source": [
    "# Adjusting the code to correctly process and display the mappings, and fix the error encountered\n",
    "\n",
    "def evaluate_polynomials():\n",
    "    elements = [0, 1, 2]\n",
    "    mapping_results = {}\n",
    "\n",
    "    # Degree-0 Polynomials\n",
    "    for c in elements:\n",
    "        mapping_results[f\"f(x) = {c}\"] = [(c, c, c)]\n",
    "    \n",
    "    # Degree-1 Polynomials\n",
    "    for a in elements[1:]:  # Exclude 0 to ensure it's a degree-1 polynomial\n",
    "        for b in elements:\n",
    "            key = f\"f(x) = {a}x + {b}\" if b else f\"f(x) = {a}x\"\n",
    "            mapping_results[key] = [(a*x + b) % 3 for x in elements]\n",
    "            \n",
    "    # Degree-2 Polynomials\n",
    "    for a in elements[1:]:  # Exclude 0 to ensure it's a degree-2 polynomial\n",
    "        for b in elements:\n",
    "            for c in elements:\n",
    "                key = f\"f(x) = {a}x^2 + {b}x + {c}\"\n",
    "                if b == 0 and c != 0:\n",
    "                    key = f\"f(x) = {a}x^2 + {c}\"\n",
    "                elif b != 0 and c == 0:\n",
    "                    key = f\"f(x) = {a}x^2 + {b}x\"\n",
    "                elif b == 0 and c == 0:\n",
    "                    key = f\"f(x) = {a}x^2\"\n",
    "                mapping_results[key] = [(a*x**2 + b*x + c) % 3 for x in elements]\n",
    "\n",
    "    return mapping_results\n",
    "\n",
    "# Evaluate and organize the mapping results\n",
    "mapping_results = evaluate_polynomials()\n",
    "\n",
    "# Show the total number of unique mappings and the total number of polynomials evaluated\n",
    "unique_mappings = set(tuple(v) for v in mapping_results.values())\n",
    "total_polynomials = len(mapping_results)\n",
    "\n",
    "len(unique_mappings), total_polynomials\n"
   ]
  },
  {
   "cell_type": "code",
   "execution_count": 2,
   "metadata": {},
   "outputs": [
    {
     "data": {
      "text/plain": [
       "{'f(x) = 0': [(0, 0, 0)],\n",
       " 'f(x) = 1': [(1, 1, 1)],\n",
       " 'f(x) = 2': [(2, 2, 2)],\n",
       " 'f(x) = 1x': [0, 1, 2],\n",
       " 'f(x) = 1x + 1': [1, 2, 0],\n",
       " 'f(x) = 1x + 2': [2, 0, 1],\n",
       " 'f(x) = 2x': [0, 2, 1],\n",
       " 'f(x) = 2x + 1': [1, 0, 2],\n",
       " 'f(x) = 2x + 2': [2, 1, 0],\n",
       " 'f(x) = 1x^2': [0, 1, 1],\n",
       " 'f(x) = 1x^2 + 1': [1, 2, 2],\n",
       " 'f(x) = 1x^2 + 2': [2, 0, 0],\n",
       " 'f(x) = 1x^2 + 1x': [0, 2, 0],\n",
       " 'f(x) = 1x^2 + 1x + 1': [1, 0, 1],\n",
       " 'f(x) = 1x^2 + 1x + 2': [2, 1, 2],\n",
       " 'f(x) = 1x^2 + 2x': [0, 0, 2],\n",
       " 'f(x) = 1x^2 + 2x + 1': [1, 1, 0],\n",
       " 'f(x) = 1x^2 + 2x + 2': [2, 2, 1],\n",
       " 'f(x) = 2x^2': [0, 2, 2],\n",
       " 'f(x) = 2x^2 + 1': [1, 0, 0],\n",
       " 'f(x) = 2x^2 + 2': [2, 1, 1],\n",
       " 'f(x) = 2x^2 + 1x': [0, 0, 1],\n",
       " 'f(x) = 2x^2 + 1x + 1': [1, 1, 2],\n",
       " 'f(x) = 2x^2 + 1x + 2': [2, 2, 0],\n",
       " 'f(x) = 2x^2 + 2x': [0, 1, 0],\n",
       " 'f(x) = 2x^2 + 2x + 1': [1, 2, 1],\n",
       " 'f(x) = 2x^2 + 2x + 2': [2, 0, 2]}"
      ]
     },
     "execution_count": 2,
     "metadata": {},
     "output_type": "execute_result"
    }
   ],
   "source": [
    "mapping_results"
   ]
  },
  {
   "cell_type": "code",
   "execution_count": null,
   "metadata": {},
   "outputs": [],
   "source": []
  }
 ],
 "metadata": {
  "kernelspec": {
   "display_name": "Python 3 (ipykernel)",
   "language": "python",
   "name": "python3"
  },
  "language_info": {
   "codemirror_mode": {
    "name": "ipython",
    "version": 3
   },
   "file_extension": ".py",
   "mimetype": "text/x-python",
   "name": "python",
   "nbconvert_exporter": "python",
   "pygments_lexer": "ipython3",
   "version": "3.9.1"
  }
 },
 "nbformat": 4,
 "nbformat_minor": 2
}
